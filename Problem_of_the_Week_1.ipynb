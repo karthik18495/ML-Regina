{
  "nbformat": 4,
  "nbformat_minor": 0,
  "metadata": {
    "colab": {
      "name": "Problem_of_the_Week_1.ipynb",
      "provenance": [],
      "collapsed_sections": [],
      "include_colab_link": true
    },
    "kernelspec": {
      "name": "python3",
      "display_name": "Python 3"
    },
    "accelerator": "GPU"
  },
  "cells": [
    {
      "cell_type": "markdown",
      "metadata": {
        "id": "view-in-github",
        "colab_type": "text"
      },
      "source": [
        "<a href=\"https://colab.research.google.com/github/karthik18495/ML-Regina/blob/master/Problem_of_the_Week_1.ipynb\" target=\"_parent\"><img src=\"https://colab.research.google.com/assets/colab-badge.svg\" alt=\"Open In Colab\"/></a>"
      ]
    },
    {
      "cell_type": "code",
      "metadata": {
        "id": "ZC2bNbXUEdK7",
        "colab_type": "code",
        "colab": {}
      },
      "source": [
        "import random as rand\n",
        "import numpy as np\n",
        "import string \n",
        "import matplotlib.pyplot as plt\n",
        "import time"
      ],
      "execution_count": 0,
      "outputs": []
    },
    {
      "cell_type": "markdown",
      "metadata": {
        "id": "wT_MftmgVZqV",
        "colab_type": "text"
      },
      "source": [
        "# Question 1 \n",
        "Generation of alphabets and converting them into a dictonary"
      ]
    },
    {
      "cell_type": "markdown",
      "metadata": {
        "id": "f-XaXFpUiJJ3",
        "colab_type": "text"
      },
      "source": [
        "# Picker Function will pick a sample of alphabets of length L (less than 26) within the english alphabets"
      ]
    },
    {
      "cell_type": "code",
      "metadata": {
        "id": "T-16tKXn4QNv",
        "colab_type": "code",
        "colab": {}
      },
      "source": [
        "def picker(length = 13):\n",
        "  alphabets = string.ascii_lowercase\n",
        "  dict = {}\n",
        "  for i in enumerate(alphabets):\n",
        "    dict[i[0]+1]=i[1]\n",
        "  random = rand.sample(range(1,27),length)\n",
        "  strings = ''\n",
        "  for i in random:\n",
        "    strings+=dict[i]\n",
        "  return strings\n",
        "sample_string = picker()"
      ],
      "execution_count": 0,
      "outputs": []
    },
    {
      "cell_type": "markdown",
      "metadata": {
        "id": "MNGHQZwemuEd",
        "colab_type": "text"
      },
      "source": [
        "# The writer function will write a file with a specific number of lines and specific no of characters in each line. It takes 3 arguments the name of the file, no of lines and no of characters per line.\n",
        "\n",
        "\n",
        "# default filename is testfile.txt, no_lines = 10, no_char_per_line=13"
      ]
    },
    {
      "cell_type": "code",
      "metadata": {
        "id": "ZZlGVuA3iph4",
        "colab_type": "code",
        "outputId": "6c522a6d-eab3-4f29-a560-44c1d5d354ec",
        "colab": {
          "base_uri": "https://localhost:8080/",
          "height": 69
        }
      },
      "source": [
        "def writer(filename=\"testfile.txt\",no_lines=10,no_char_per_line=13):\n",
        "  f = open(filename,'w+')\n",
        "  for line in range(no_lines):\n",
        "    f.write(picker(no_char_per_line))\n",
        "    f.write(\"\\n\")\n",
        "  f.close()\n",
        "  print(\"\\n The file {} is written with {} lines with each line containing {} characters \\n\".format(filename,no_lines,no_char_per_line))\n",
        "writer()"
      ],
      "execution_count": 0,
      "outputs": [
        {
          "output_type": "stream",
          "text": [
            "\n",
            " The file testfile.txt is written with 10 lines with each line containing 13 characters \n",
            "\n"
          ],
          "name": "stdout"
        }
      ]
    },
    {
      "cell_type": "markdown",
      "metadata": {
        "id": "MZIbL3w_sA-w",
        "colab_type": "text"
      },
      "source": [
        "The program wordsearch will compare the aplhabets in the given word with the given file. It prints out statements about the presence of the alphabet in the filename"
      ]
    },
    {
      "cell_type": "code",
      "metadata": {
        "id": "Gqj0Hswc9gU_",
        "colab_type": "code",
        "outputId": "bb9e78ff-1872-4d6a-f5fe-422f32d4ad8f",
        "colab": {
          "base_uri": "https://localhost:8080/",
          "height": 486
        }
      },
      "source": [
        "def wordsearch(filepath,word):\n",
        "  print(\"This program will return if the given word {} exist is the file {} \\n \\n\".format(word,filepath))\n",
        "  lists = []\n",
        "  for char in word:\n",
        "    print(\"\\n\\n Checking the Character {} \\n \".format(char))\n",
        "    f = open(filepath,'r')\n",
        "    #print(char)\n",
        "    count=0\n",
        "    for line in f:\n",
        "      if (char in line[1]):\n",
        "        count+=1\n",
        "    if (count==0):\n",
        "      print(\"The character {} do not exist in the file \\n\".format(char))\n",
        "    if(count!=0):\n",
        "      print(\"The Character {} exist in the file \\n\".format(char))\n",
        "      lists.append(False)\n",
        "  if (len(lists)==0):\n",
        "    print(\"All the characters in the word {} exist in the file \".format(word))\n",
        "wordsearch(\"/content/testfile.txt\",\"zest\")"
      ],
      "execution_count": 0,
      "outputs": [
        {
          "output_type": "stream",
          "text": [
            "This program will return if the given word zest exist is the file /content/testfile.txt \n",
            " \n",
            "\n",
            "\n",
            "\n",
            " Checking the Character z \n",
            " \n",
            "The Character z exist in the file \n",
            "\n",
            "\n",
            "\n",
            " Checking the Character e \n",
            " \n",
            "The character e do not exist in the file \n",
            "\n",
            "\n",
            "\n",
            " Checking the Character s \n",
            " \n",
            "The character s do not exist in the file \n",
            "\n",
            "\n",
            "\n",
            " Checking the Character t \n",
            " \n",
            "The character t do not exist in the file \n",
            "\n"
          ],
          "name": "stdout"
        }
      ]
    },
    {
      "cell_type": "code",
      "metadata": {
        "id": "3QUPbVMsNcvO",
        "colab_type": "code",
        "colab": {}
      },
      "source": [
        "def plot_hist(filepath,line_flag=0,characters=['a','e','i','o','u']):\n",
        "  start_time = time.time()\n",
        "  if(line_flag==0):\n",
        "    lines = \"All Lines\"\n",
        "    mod = 1\n",
        "    mod_value = 0\n",
        "  if(line_flag==1):\n",
        "    lines = \"Odd Lines\"\n",
        "    mod = 2\n",
        "    mod_value = 1\n",
        "  if(line_flag==2):\n",
        "    lines = \"Even Lines\"\n",
        "    mod = 2 \n",
        "    mod_value = 0 \n",
        "  if(line_flag>2):\n",
        "    print(\"\\n Please enter one flag for choosing the lines 0 : All Lines, 1 : Odd Lines , 2 : Even Lines \\n\")\n",
        "    exit\n",
        "  print(\"\\n You have chosen to plot histogram of characters in {} of the file {} \\n\".format(lines,filepath))\n",
        "  f = open(filepath,'r')\n",
        "  strings = ''\n",
        "  for line in enumerate(f):\n",
        "    if(line[0]%mod==mod_value):\n",
        "      strings+=line[1]\n",
        "  strings = strings.replace('\\n','')\n",
        "  lists = list(strings)\n",
        "  del strings\n",
        "  alphabets = set(lists)\n",
        "  string_list = {i:lists.count(i) for i in lists}\n",
        "  del lists\n",
        "  #print(alphabets)\n",
        "  #print([string_list.get(alphabets_count) for alphabets_count in alphabets])\n",
        "  x = np.arange(len(alphabets))\n",
        "  plt.xticks(x, alphabets)\n",
        "  plt.bar(x,[string_list.get(alphabets_count) for alphabets_count in alphabets])\n",
        "  end_time = time.time()\n",
        "  print(\"The execution time is {} seconds\".format(end_time-start_time))\n",
        "  #plt.bar(alphabets,[string_list.get(alphabets_count) for alphabets_count in alphabets])\n",
        "\n",
        "plot_hist(\"/content/testfile.txt\",0)  "
      ],
      "execution_count": 0,
      "outputs": []
    },
    {
      "cell_type": "code",
      "metadata": {
        "id": "GRp0rpekOy7h",
        "colab_type": "code",
        "outputId": "84bc4dd8-d63a-464f-a179-f0f97dd99b7c",
        "colab": {
          "base_uri": "https://localhost:8080/",
          "height": 338
        }
      },
      "source": [
        ""
      ],
      "execution_count": 0,
      "outputs": [
        {
          "output_type": "stream",
          "text": [
            "\n",
            " You have chosen to plot histogram of characters in All Lines of the file /content/testfile.txt \n",
            "\n",
            "The execution time is 0.06497907638549805 seconds\n"
          ],
          "name": "stdout"
        },
        {
          "output_type": "display_data",
          "data": {
            "image/png": "[encoded data removed]",
            "text/plain": [
              "<Figure size 432x288 with 1 Axes>"
            ]
          },
          "metadata": {
            "tags": []
          }
        }
      ]
    },
    {
      "cell_type": "code",
      "metadata": {
        "id": "tixk5VhFUjtP",
        "colab_type": "code",
        "colab": {}
      },
      "source": [
        "def OddGen(a,b):\n",
        "  if(a%2==0):\n",
        "    return range(a+1,b,2)\n",
        "  else:\n",
        "    return range(a,b,2)"
      ],
      "execution_count": 0,
      "outputs": []
    },
    {
      "cell_type": "code",
      "metadata": {
        "id": "6bq0_LB3n64c",
        "colab_type": "code",
        "outputId": "c6c34c01-34cf-46e7-f3c8-1d85b27ba590",
        "colab": {
          "base_uri": "https://localhost:8080/",
          "height": 86
        }
      },
      "source": [
        "for i in OddGen(2,10):\n",
        "  print(i)"
      ],
      "execution_count": 0,
      "outputs": [
        {
          "output_type": "stream",
          "text": [
            "3\n",
            "5\n",
            "7\n",
            "9\n"
          ],
          "name": "stdout"
        }
      ]
    },
    {
      "cell_type": "code",
      "metadata": {
        "id": "U2OIrJOtpDEN",
        "colab_type": "code",
        "colab": {}
      },
      "source": [
        ""
      ],
      "execution_count": 0,
      "outputs": []
    }
  ]
}