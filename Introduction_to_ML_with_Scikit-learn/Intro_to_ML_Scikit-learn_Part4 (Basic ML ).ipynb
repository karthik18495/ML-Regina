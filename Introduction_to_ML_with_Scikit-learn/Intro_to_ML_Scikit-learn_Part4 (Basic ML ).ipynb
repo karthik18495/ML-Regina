{
 "cells": [
  {
   "cell_type": "markdown",
   "metadata": {},
   "source": [
    "# Part4.  Introduction to Data Science in Scikit-Learn\n",
    "\n",
    "## 1. Intro to Scikit-Learn\n",
    "\n",
    "*Note: Some of the  material is gotten from online, and there might be no proper scitation:*\n",
    "\n",
    "In this notebook, we will get a gentle introduction to scikit-learn. Before we do that, lets remind ourselves of the basics of Data Science in Python. In data science, we are basically trying to learn using data. \n",
    "\n",
    "Our aim is to construct a \"function\" $y = f(X)$ such that the value of $y$ will be determined once we input the values $X$ into $f$. The \"function\" $f$ will be construct by the machine learning algorithm based on the values of $y$ and $X$ that are already known.\n",
    "\n",
    "In sciences, we can split this into the following:\n",
    "  - Inference\n",
    "  - Predictive modelling"
   ]
  },
  {
   "cell_type": "markdown",
   "metadata": {},
   "source": [
    "Below is a picture shpwing various types of ML, credit: S. Rascka\n",
    "![Various types of ML](img/types_ML.png)"
   ]
  },
  {
   "cell_type": "markdown",
   "metadata": {},
   "source": [
    "## 2  How does the full process looks like?\n",
    "The following steps are provided in Géron Hand's on Machine Learning book.\n",
    "\n",
    "1. **Frame the problem**:\n",
    "This first step is where the objective is defined taking in to account how the machine learning system solution used and also the category where if falls, as per the figure above\n",
    " \n",
    "2. **Get the data**:\n",
    "Identify the source of data (time series, observations, images, etc.) and there is not enough data, maybe collect some\n",
    " \n",
    "3. **Explore the data**:\n",
    "Play with the data and learn a little bit about the format ans so on. Plot some of the features as well so dummary stats. See our lesson on `data exploration`\n",
    " \n",
    "4. **Prepare the data**:\n",
    "TApply data transformations including cleaning etc. See our lesson on `pandas`. The data is then split train and test\n",
    " \n",
    "5. **Model the data**:\n",
    "Pick some models depending on the data and then train the data with it. \n",
    " \n",
    "6. **Fine-tune the models**:\n",
    "A few high performing models are idenfiied and then optimized to get the file\n",
    " \n",
    "7. **Present the solution**:\n",
    "Some more visializations of the performance and what is expected. Present according to the technical understanding of the audience\n",
    " \n",
    "8. **Launch the ML system**:\n",
    "The system is deployed for production. This involves the data engineering team\n",
    "\n",
    "9. **Monitor the system and retrain**:\n",
    "The performance of the system is continually monitored as the time period mey be. It might be retrain as new data comes."
   ]
  },
  {
   "cell_type": "markdown",
   "metadata": {},
   "source": [
    "![ML steps](img/final_model_selection.png)"
   ]
  },
  {
   "cell_type": "code",
   "execution_count": null,
   "metadata": {},
   "outputs": [],
   "source": []
  },
  {
   "cell_type": "markdown",
   "metadata": {},
   "source": [
    "## 3. What is scikit-learn?\n",
    "\n",
    "Scikit-learn provides a range of **supervised** and **unsupervised** learning algorithms via a consistent interface in Python. The library is built upon the SciPy (Scientific Python) that must be installed before you can use scikit-learn. This stack that includes:\n",
    "\n",
    "  -  **DataSet**: Standard dataset as well as data generation models in preloaded\n",
    "  -  **NumPy**: Base n-dimensional array package\n",
    "  -  **SciPy**: Fundamental library for scientific computing\n",
    "  -  **Matplotlib**: Comprehensive 2D/3D plotting\n",
    "  -  **IPython**: Enhanced interactive console\n",
    "  -  **Sympy**: Symbolic mathematics\n",
    "  -  **Pandas**: Data structures and analysis\n",
    "  \n",
    "  \n",
    "**Sklearn API is straightforward:**\n",
    " 1. **Initialization**: Each model has its own constructor, e.g., model =` LogisticRegression(penalty = \"l1\", C = 0.1)`.\n",
    " 2. **Training**: Every model implements a `.fit()`  method that trains the model; e.g., model.fit(X_train, y_train) or `.fit(), .transform()` or both at once with `.fit_tranform()`\n",
    " 3. **Prediction**: Every model implements a `.predict()` method that predictsthe target output for new inputs; e.g., $\\hat{y}$ = `model.predict`(X_test)\n",
    " 4. **Probabilities**: Many models also implement a `.predict_proba()` method that predicts the class probabilities for new inputs; e.g., $p = $`model.predict_proba`(X_test)"
   ]
  },
  {
   "cell_type": "markdown",
   "metadata": {},
   "source": [
    "\n",
    "There is a score method to simply run predict on the features (X) internally and then computes the performance by comparing the predicted targets to the true targets y.\n",
    "In the case of classification models, the score method computes the classification accuracy (in the range [0, 1]) -- i.e., the proportion of correctly predicted labels. In the case of regression models, the score method computes the coefficient of determination ($R^2$).\n",
    "\n",
    "Performance can be measured via multiple ways but here are some\n",
    "  - Confusion matrix\n",
    "  - Precision/Recall\n",
    "  - Accuracy"
   ]
  },
  {
   "cell_type": "markdown",
   "metadata": {},
   "source": [
    "class SupervisedEstimator(...):\n",
    "    \n",
    "    def __init__(self, hyperparam_1, ...):\n",
    "        self.hyperparm_1\n",
    "        ...\n",
    "    \n",
    "    def fit(self, X, y):\n",
    "        ...\n",
    "        self.fit_attribute_\n",
    "        return self\n",
    "        \n",
    "    def transform(self, X):\n",
    "        ...\n",
    "        return y_pred\n",
    "    \n",
    "    def predict(self, X):\n",
    "        ...\n",
    "        return y_pred\n",
    "    \n",
    "    def score(self, X, y):\n",
    "        ...\n",
    "        return score\n",
    "\n",
    "    def _private_method(self):\n",
    "        ...\n",
    "    ...\n",
    "    "
   ]
  },
  {
   "cell_type": "markdown",
   "metadata": {},
   "source": [
    "![Clean Data](/img/CV.png)"
   ]
  },
  {
   "cell_type": "markdown",
   "metadata": {},
   "source": [
    "## 4. What are the features?\n",
    "\n",
    "The library is focused on **modeling data**. It is not focused on loading, manipulating and summarizing data. For these features, refer to NumPy and Pandas. Some popular groups of models provided by scikit-learn include:\n",
    "\n",
    "  -  **Clustering**: for grouping unlabeled data such as KMeans.\n",
    "  -  **Cross Validation**: for estimating the performance of supervised models on unseen data.\n",
    "  -  **Datasets**: for test datasets and for generating datasets with specific properties for investigating model behavior.\n",
    "  -  **Dimensionality Reduction**: for reducing the number of attributes in data for summarization, visualization and feature  selection such as Principal component analysis.\n",
    "  -  **Ensemble methods**: for combining the predictions of multiple supervised models.\n",
    "  -  **Feature extraction**: for defining attributes in image and text data.\n",
    "  -  **Feature selection**: for identifying meaningful attributes from which to create supervised models.\n",
    "  -  **Parameter Tuning**: for getting the most out of supervised models.\n",
    "  -  **Manifold Learning**: For summarizing and depicting complex multi-dimensional data.\n",
    "  -  **Supervised Models**: a vast array not limited to generalized linear models, discriminate analysis, naive bayes, lazy methods, neural networks, support vector machines and decision trees.\n"
   ]
  },
  {
   "cell_type": "markdown",
   "metadata": {},
   "source": [
    "![Get and Explore the Data](img/get-explore_data.png)"
   ]
  },
  {
   "cell_type": "markdown",
   "metadata": {},
   "source": [
    "There is **real** data that is stored in the library. This is toy data for easy access. it is a toy data because it is already cleaned and arranged in a form ready foor use. Most real world data is messy!"
   ]
  },
  {
   "cell_type": "code",
   "execution_count": 2,
   "metadata": {},
   "outputs": [],
   "source": [
    "from sklearn import datasets\n",
    "# import some data to play with\n",
    "iris = datasets.load_iris()"
   ]
  },
  {
   "cell_type": "markdown",
   "metadata": {},
   "source": [
    "Explore the data"
   ]
  },
  {
   "cell_type": "code",
   "execution_count": null,
   "metadata": {},
   "outputs": [],
   "source": []
  },
  {
   "cell_type": "code",
   "execution_count": 3,
   "metadata": {},
   "outputs": [
    {
     "data": {
      "text/plain": [
       "dict_keys(['data', 'target', 'target_names', 'DESCR', 'feature_names', 'filename'])"
      ]
     },
     "execution_count": 3,
     "metadata": {},
     "output_type": "execute_result"
    }
   ],
   "source": [
    "iris.keys()"
   ]
  },
  {
   "cell_type": "code",
   "execution_count": 4,
   "metadata": {},
   "outputs": [
    {
     "data": {
      "text/plain": [
       "array(['setosa', 'versicolor', 'virginica'], dtype='<U10')"
      ]
     },
     "execution_count": 4,
     "metadata": {},
     "output_type": "execute_result"
    }
   ],
   "source": [
    "iris.target_names"
   ]
  },
  {
   "cell_type": "code",
   "execution_count": 4,
   "metadata": {},
   "outputs": [
    {
     "data": {
      "text/plain": [
       "['sepal length (cm)',\n",
       " 'sepal width (cm)',\n",
       " 'petal length (cm)',\n",
       " 'petal width (cm)']"
      ]
     },
     "execution_count": 4,
     "metadata": {},
     "output_type": "execute_result"
    }
   ],
   "source": [
    "iris.feature_names"
   ]
  },
  {
   "cell_type": "markdown",
   "metadata": {},
   "source": [
    "Adding the features and labels"
   ]
  },
  {
   "cell_type": "code",
   "execution_count": 5,
   "metadata": {},
   "outputs": [],
   "source": [
    "X = iris.data\n",
    "y = iris.target"
   ]
  },
  {
   "cell_type": "code",
   "execution_count": 6,
   "metadata": {},
   "outputs": [
    {
     "data": {
      "text/plain": [
       "(150, 4)"
      ]
     },
     "execution_count": 6,
     "metadata": {},
     "output_type": "execute_result"
    }
   ],
   "source": [
    "X.shape"
   ]
  },
  {
   "cell_type": "code",
   "execution_count": 7,
   "metadata": {},
   "outputs": [
    {
     "data": {
      "text/plain": [
       "(150,)"
      ]
     },
     "execution_count": 7,
     "metadata": {},
     "output_type": "execute_result"
    }
   ],
   "source": [
    "y.shape"
   ]
  },
  {
   "cell_type": "markdown",
   "metadata": {},
   "source": [
    "There is also **simulated** data that is stored in the library as a form of model. This feature is important because we can simulate data and do some prelimenary studies before embarking on a data collection process that might be expensive. Others include\n",
    " - Can your models handle noisy labels?\n",
    " - What happens when 99% of your labels are negative and only 1% are positive?\n",
    " - If the models can tell you which features are redundant?\n",
    " - In case of model provided feature importances how does the model handle redundant features.\n",
    " - Does removing redundant features improve your model’s performance?\n",
    " - How does your model behave when Redundant features, noise and imbalance are all present at once in your dataset?\n",
    " - If  N data oints and M features are given, what are the safe values of N,M so your model doesn’t overfit?"
   ]
  },
  {
   "cell_type": "code",
   "execution_count": 7,
   "metadata": {},
   "outputs": [],
   "source": [
    "%matplotlib inline\n",
    "import matplotlib.pyplot as plt #for plotting\n",
    "import seaborn as sns\n",
    "sns.set(style=\"darkgrid\")\n",
    "\n",
    "from sklearn.datasets.samples_generator import make_blobs\n",
    "\n",
    "# #############################################################################\n",
    "# Generate sample data\n",
    "centers = [[1, 1], [-1, -1], [1, -1]]\n",
    "X, labels_true = make_blobs(n_samples=300, centers=centers, cluster_std=0.5,\n",
    "                            random_state=0)"
   ]
  },
  {
   "cell_type": "code",
   "execution_count": 8,
   "metadata": {},
   "outputs": [
    {
     "data": {
      "text/plain": [
       "(300, 2)"
      ]
     },
     "execution_count": 8,
     "metadata": {},
     "output_type": "execute_result"
    }
   ],
   "source": [
    "X.shape"
   ]
  },
  {
   "cell_type": "code",
   "execution_count": 9,
   "metadata": {},
   "outputs": [
    {
     "data": {
      "text/plain": [
       "<matplotlib.collections.PathCollection at 0x7fa0ce48fc18>"
      ]
     },
     "execution_count": 9,
     "metadata": {},
     "output_type": "execute_result"
    },
    {
     "data": {
      "image/png": "[encoded data removed]",
      "text/plain": [
       "<Figure size 432x288 with 1 Axes>"
      ]
     },
     "metadata": {
      "needs_background": "light"
     },
     "output_type": "display_data"
    }
   ],
   "source": [
    "plt.scatter(X[:,0], X[:,1])"
   ]
  },
  {
   "cell_type": "markdown",
   "metadata": {},
   "source": [
    "## 5. Training the data\n",
    "\n",
    "### Classification\n",
    "\n",
    "Most machine learning problems can be posed as classifications. \n",
    "Classification is tasked with the task of partitioning a vector into disjoint groups.\n",
    "\n",
    "**Sample** $X[0], ..., X[N-1]\\in \\mathbb{R}^p$\n",
    "\n",
    "**Labels** $y[0], ..., y[N-1]\\in \\mathcal{L} = \\{1,...,C\\}$\n",
    "\n",
    "**classifier** $F(X): \\mathbb{R}^p \\rightarrow \\mathcal{L}$\n",
    "\n",
    "  - Now, the task is to find the function $F$ that maps the samples mostaccurately to their corresponding labels. \n",
    "  - For example: Find the functionFthat minimizes the number of erroneouspredictions,i.e., the cases $F(x[k])\\neq y[k]$\n",
    "  \n",
    "### Regression\n",
    "\n",
    "This is the second largest category. \n",
    "In regression, the outcomes are reals, not categories.\n",
    "\n",
    "**Imput** $X[0], ..., X[N-1]\\in \\mathbb{R}^p$\n",
    "\n",
    "**Targets** $y[0], ..., y[N-1]\\in \\mathcal{L} = \\{1,...,C\\}$\n",
    "\n",
    "**Predictor** $F(X): \\mathbb{R}^p \\rightarrow \\mathcal{L}$\n",
    "\n",
    "  - This time the task is to find the function $F$ that maps the samples most accuratelyto their corresponding targets.\n",
    "  - For example: Find the functionFthat minimizes the squared sum of distancesbetween predictions and targets:\n",
    "  \n",
    "  \n",
    "$l = \\sum_{k=0}^{N-1} (y[k]-F(X[k])^2$"
   ]
  },
  {
   "cell_type": "markdown",
   "metadata": {},
   "source": [
    "\n",
    "\n",
    "### Example 1. Clustering\n",
    "The intuition behind the clustering algorithm is to simply calculates the distance of each data point a pre chosen number of centers. The distance can be of any type e.g `Euclidean`. It then selects the center which is closest to the particle. \n",
    "In clustering, the data is present with an unknown number of groups. An assumption is made on the number of groups present. \n",
    "\n",
    "For example, consider the data:\n",
    "\n",
    "**Sample** $X[0], ..., X[N-1]\\in \\mathbb{R}^p$\n",
    "\n",
    "`K-means` interatively finds the best center (of the clusters) of each of the clusters whose center is the closest to the pattern.\n",
    "\n",
    "**classifier** $F(X): \\mathbb{R}^p \\rightarrow \\mathcal{L} = \\{0,...,K-1 \\}$\n",
    "\n",
    "We used clustering an Unsupervised Algorithm to identify where the data belons: \n",
    "\n",
    "Here we will identify the following in the \n",
    "**Sklearn API:**\n",
    " 1. **Initialization**: Randomly innitialize the cennters to $C_0, C_1,...,C_{K-1}\\in \\mathbb{R}^p$\n",
    " \n",
    " \n",
    " 2. **Training**: \n",
    "   - Find the distance of all samples $X[0], ..., X[N-1]$ from all the centers. That is, $\\forall i \\in (0, 1,2,...,N-1)$ and $j \\in (0, 1,2,...,K-1) $\n",
    " \n",
    " $ d_{ij}(X_i, C_j = ||X_i-C_j|| = \\sqrt{\\sum_{l=1}^p(X_{il} - C_{jl})^2}$\n",
    "   \n",
    "   - Find clusters $j \\in (0, 1,2,...,K-1) $ by assigning each sample to the closest center\n",
    "   - Find new centers indentified as the sample closest to the average of all the samples, i.e new $C_j$ is the mean of all the examples\n",
    "   - If during last interation nothing moves, then goto prediction\n",
    " \n",
    " \n",
    " 3. **Prediction**: Use some data that is not present to check it performance\n",
    " 4. **Probabilities**: predict the probability that the point is in the right cluster\n"
   ]
  },
  {
   "cell_type": "markdown",
   "metadata": {},
   "source": [
    "**1.1. Initialization**"
   ]
  },
  {
   "cell_type": "code",
   "execution_count": 10,
   "metadata": {},
   "outputs": [],
   "source": [
    "from sklearn.cluster import KMeans\n",
    "model = KMeans(n_clusters=3)"
   ]
  },
  {
   "cell_type": "code",
   "execution_count": 11,
   "metadata": {},
   "outputs": [
    {
     "data": {
      "text/plain": [
       "<matplotlib.collections.PathCollection at 0x7fa0cdaf1da0>"
      ]
     },
     "execution_count": 11,
     "metadata": {},
     "output_type": "execute_result"
    },
    {
     "data": {
      "image/png": "[encoded data removed]",
      "text/plain": [
       "<Figure size 432x288 with 1 Axes>"
      ]
     },
     "metadata": {
      "needs_background": "light"
     },
     "output_type": "display_data"
    }
   ],
   "source": [
    "plt.scatter(X[:,0], X[:,1])"
   ]
  },
  {
   "cell_type": "code",
   "execution_count": 37,
   "metadata": {},
   "outputs": [],
   "source": [
    "import sklearn.cluster"
   ]
  },
  {
   "cell_type": "code",
   "execution_count": 38,
   "metadata": {},
   "outputs": [
    {
     "data": {
      "text/plain": [
       "['AffinityPropagation',\n",
       " 'AgglomerativeClustering',\n",
       " 'Birch',\n",
       " 'DBSCAN',\n",
       " 'FeatureAgglomeration',\n",
       " 'KMeans',\n",
       " 'MeanShift',\n",
       " 'MiniBatchKMeans',\n",
       " 'OPTICS',\n",
       " 'SpectralBiclustering',\n",
       " 'SpectralClustering',\n",
       " 'SpectralCoclustering',\n",
       " '__all__',\n",
       " '__builtins__',\n",
       " '__cached__',\n",
       " '__doc__',\n",
       " '__file__',\n",
       " '__loader__',\n",
       " '__name__',\n",
       " '__package__',\n",
       " '__path__',\n",
       " '__spec__',\n",
       " '_dbscan_inner',\n",
       " '_feature_agglomeration',\n",
       " '_hierarchical',\n",
       " '_k_means',\n",
       " '_k_means_elkan',\n",
       " 'affinity_propagation',\n",
       " 'affinity_propagation_',\n",
       " 'bicluster',\n",
       " 'birch',\n",
       " 'cluster_optics_dbscan',\n",
       " 'cluster_optics_xi',\n",
       " 'compute_optics_graph',\n",
       " 'dbscan',\n",
       " 'dbscan_',\n",
       " 'estimate_bandwidth',\n",
       " 'get_bin_seeds',\n",
       " 'hierarchical',\n",
       " 'k_means',\n",
       " 'k_means_',\n",
       " 'linkage_tree',\n",
       " 'mean_shift',\n",
       " 'mean_shift_',\n",
       " 'optics_',\n",
       " 'spectral',\n",
       " 'spectral_clustering',\n",
       " 'ward_tree']"
      ]
     },
     "execution_count": 38,
     "metadata": {},
     "output_type": "execute_result"
    }
   ],
   "source": [
    "dir(sklearn.cluster)"
   ]
  },
  {
   "cell_type": "markdown",
   "metadata": {},
   "source": [
    "**1.2 Training**:\n",
    "We train with the X data"
   ]
  },
  {
   "cell_type": "code",
   "execution_count": 19,
   "metadata": {},
   "outputs": [],
   "source": [
    "kmeans = model.fit(X)"
   ]
  },
  {
   "cell_type": "code",
   "execution_count": 17,
   "metadata": {},
   "outputs": [
    {
     "data": {
      "text/plain": [
       "array([0, 1, 1, 0, 0, 1, 1, 1, 1, 0, 1, 0, 0, 1, 0, 0, 1, 1, 1, 1, 0, 0,\n",
       "       0, 0, 1, 0, 1, 1, 1, 1, 1, 1, 0, 1, 1, 1, 1, 1, 1, 0, 0, 0, 0, 0,\n",
       "       1, 1, 1, 1, 1, 0, 0, 0, 1, 1, 1, 1, 1, 0, 1, 0, 1, 1, 1, 1, 1, 1,\n",
       "       1, 0, 1, 0, 1, 1, 0, 0, 1, 1, 1, 1, 0, 0, 1, 0, 1, 1, 1, 0, 0, 1,\n",
       "       1, 0, 1, 0, 1, 0, 1, 0, 1, 1, 0, 1, 0, 0, 0, 0, 0, 1, 1, 1, 1, 1,\n",
       "       1, 1, 1, 1, 0, 1, 0, 1, 1, 0, 1, 1, 1, 1, 1, 1, 0, 1, 0, 1, 0, 0,\n",
       "       0, 1, 0, 1, 0, 1, 1, 0, 1, 1, 1, 0, 1, 0, 1, 1, 1, 1, 1, 0, 0, 0,\n",
       "       1, 0, 1, 0, 0, 0, 0, 1, 1, 0, 1, 0, 1, 1, 0, 0, 0, 1, 1, 0, 0, 0,\n",
       "       0, 1, 1, 0, 1, 0, 0, 1, 1, 0, 1, 1, 0, 1, 1, 1, 0, 1, 1, 1, 0, 1,\n",
       "       0, 0, 0, 0, 1, 1, 1, 1, 1, 0, 1, 1, 0, 1, 1, 1, 0, 0, 0, 0, 1, 0,\n",
       "       1, 1, 0, 1, 1, 1, 0, 0, 0, 1, 0, 1, 1, 1, 1, 0, 1, 1, 0, 1, 1, 1,\n",
       "       0, 1, 1, 0, 0, 1, 0, 1, 1, 1, 1, 0, 1, 0, 0, 1, 1, 1, 1, 0, 0, 0,\n",
       "       0, 0, 1, 1, 1, 0, 0, 1, 1, 1, 1, 1, 1, 1, 1, 1, 1, 0, 1, 1, 0, 0,\n",
       "       1, 0, 1, 1, 1, 1, 1, 1, 1, 1, 0, 1, 0, 1], dtype=int32)"
      ]
     },
     "execution_count": 17,
     "metadata": {},
     "output_type": "execute_result"
    }
   ],
   "source": [
    "kmeans.labels_"
   ]
  },
  {
   "cell_type": "markdown",
   "metadata": {},
   "source": [
    "Before we do the predic, lets **visualize the data**"
   ]
  },
  {
   "cell_type": "code",
   "execution_count": 20,
   "metadata": {},
   "outputs": [
    {
     "data": {
      "text/plain": [
       "<matplotlib.collections.PathCollection at 0x7fa0cd5640b8>"
      ]
     },
     "execution_count": 20,
     "metadata": {},
     "output_type": "execute_result"
    },
    {
     "data": {
      "image/png": "[encoded data removed]",
      "text/plain": [
       "<Figure size 432x288 with 1 Axes>"
      ]
     },
     "metadata": {
      "needs_background": "light"
     },
     "output_type": "display_data"
    }
   ],
   "source": [
    "plt.scatter(X[:, 0], X[:, 1], c=kmeans.labels_)"
   ]
  },
  {
   "cell_type": "markdown",
   "metadata": {},
   "source": [
    "We can see that the data is clearly colored according to the cluster. The method `kmeans.labels_` return labels of each of the cluster"
   ]
  },
  {
   "cell_type": "code",
   "execution_count": 14,
   "metadata": {},
   "outputs": [
    {
     "data": {
      "text/plain": [
       "array([1, 2, 0, 1, 1, 0, 2, 2, 0, 1, 2, 1, 1, 0, 1, 2, 2, 2, 2, 2, 1, 1,\n",
       "       1, 1, 2, 1, 2, 0, 2, 0, 0, 2, 1, 0, 2, 0, 0, 0, 0, 1, 1, 1, 2, 1,\n",
       "       0, 2, 2, 2, 2, 1, 1, 1, 2, 0, 0, 0, 0, 1, 0, 1, 2, 0, 0, 2, 2, 2,\n",
       "       0, 2, 0, 1, 0, 2, 1, 1, 2, 2, 0, 0, 1, 2, 0, 1, 2, 0, 0, 1, 1, 2,\n",
       "       2, 1, 0, 1, 0, 1, 0, 1, 0, 2, 1, 2, 1, 1, 1, 1, 1, 0, 0, 2, 0, 0,\n",
       "       0, 0, 0, 2, 1, 0, 1, 2, 0, 2, 0, 0, 0, 0, 0, 0, 1, 2, 2, 2, 1, 2,\n",
       "       2, 0, 1, 0, 1, 2, 0, 1, 2, 2, 0, 1, 2, 1, 0, 2, 0, 0, 0, 1, 1, 1,\n",
       "       0, 1, 0, 1, 1, 1, 1, 2, 0, 1, 2, 2, 2, 0, 1, 1, 1, 2, 2, 1, 1, 1,\n",
       "       1, 2, 2, 1, 2, 1, 1, 0, 2, 1, 0, 2, 1, 0, 0, 0, 1, 2, 0, 2, 1, 2,\n",
       "       1, 2, 1, 1, 2, 0, 0, 0, 0, 1, 2, 2, 1, 0, 0, 0, 1, 2, 1, 1, 2, 1,\n",
       "       0, 0, 1, 0, 2, 2, 2, 1, 1, 0, 2, 2, 2, 0, 2, 1, 0, 0, 1, 0, 0, 2,\n",
       "       1, 2, 2, 1, 1, 2, 1, 2, 2, 2, 0, 1, 2, 2, 1, 0, 0, 0, 0, 1, 1, 1,\n",
       "       1, 1, 2, 2, 0, 1, 1, 0, 0, 0, 2, 0, 2, 0, 0, 2, 2, 2, 0, 2, 1, 2,\n",
       "       0, 1, 2, 0, 0, 2, 0, 0, 0, 2, 1, 0, 2, 2], dtype=int32)"
      ]
     },
     "execution_count": 14,
     "metadata": {},
     "output_type": "execute_result"
    }
   ],
   "source": [
    "kmeans.labels_"
   ]
  },
  {
   "cell_type": "markdown",
   "metadata": {},
   "source": [
    "**1.3 Prediction**:"
   ]
  },
  {
   "cell_type": "code",
   "execution_count": 21,
   "metadata": {},
   "outputs": [
    {
     "data": {
      "text/plain": [
       "array([0], dtype=int32)"
      ]
     },
     "execution_count": 21,
     "metadata": {},
     "output_type": "execute_result"
    }
   ],
   "source": [
    "kmeans.predict([[-2, -2]])"
   ]
  },
  {
   "cell_type": "code",
   "execution_count": 16,
   "metadata": {},
   "outputs": [
    {
     "data": {
      "text/plain": [
       "array([2], dtype=int32)"
      ]
     },
     "execution_count": 16,
     "metadata": {},
     "output_type": "execute_result"
    }
   ],
   "source": [
    "kmeans.predict([[2, -2]])"
   ]
  },
  {
   "cell_type": "code",
   "execution_count": 17,
   "metadata": {},
   "outputs": [
    {
     "data": {
      "text/plain": [
       "array([1], dtype=int32)"
      ]
     },
     "execution_count": 17,
     "metadata": {},
     "output_type": "execute_result"
    }
   ],
   "source": [
    "kmeans.predict([[-2, 2]])"
   ]
  },
  {
   "cell_type": "code",
   "execution_count": 18,
   "metadata": {},
   "outputs": [
    {
     "data": {
      "text/plain": [
       "array([[-1.06974731, -1.04477977],\n",
       "       [ 1.00190068,  1.0640335 ],\n",
       "       [ 0.9595187 , -1.07765417]])"
      ]
     },
     "execution_count": 18,
     "metadata": {},
     "output_type": "execute_result"
    }
   ],
   "source": [
    "kmeans.cluster_centers_"
   ]
  },
  {
   "cell_type": "raw",
   "metadata": {},
   "source": [
    "print(kmeans.score(X))"
   ]
  },
  {
   "cell_type": "code",
   "execution_count": 19,
   "metadata": {},
   "outputs": [
    {
     "data": {
      "text/plain": [
       "<matplotlib.collections.PathCollection at 0x7f07f9ddcda0>"
      ]
     },
     "execution_count": 19,
     "metadata": {},
     "output_type": "execute_result"
    },
    {
     "data": {
      "image/png": "[encoded data removed]",
      "text/plain": [
       "<Figure size 864x864 with 1 Axes>"
      ]
     },
     "metadata": {
      "needs_background": "light"
     },
     "output_type": "display_data"
    }
   ],
   "source": [
    "plt.figure(figsize=(12, 12))\n",
    "\n",
    "plt.subplot(221)\n",
    "plt.scatter(X[:, 0], X[:, 1], c=kmeans.labels_)"
   ]
  },
  {
   "cell_type": "markdown",
   "metadata": {},
   "source": [
    "## 6.  K-Nearest Neighbours Classifier Algorithm\n",
    "\n",
    "### 6.1 Background knowledge\n",
    "The intuition behind the KNN algorithm is to simply calculates the distance of a new data point to all other training data points. The distance can be of any type e.g `Euclidean`. It then selects the K-nearest data points, where K can be any integer. Finally it assigns the data point to the class to which the majority of the K data points belong. It is some form of a majority voting decision maker. See below, where would x1 and x2 be assigned?"
   ]
  },
  {
   "cell_type": "markdown",
   "metadata": {},
   "source": [
    "![Clean Data](img/KNN.png)"
   ]
  },
  {
   "cell_type": "markdown",
   "metadata": {},
   "source": [
    "#### Pros\n",
    "\n",
    "-    It is extremely easy to implement compared to there algorithms\n",
    "-    It is lazy learning algorithm (No training phase, uses only neighbours to claaify a data)  and therefore requires no training prior to making real time predictions. This makes the KNN algorithm much faster than other algorithms that require training e.g SVM, linear regression, etc.\n",
    "-    Since the algorithm requires no training before making predictions, new data can be added seamlessly.\n",
    "-    There are only two parameters required to implement KNN i.e. the value of K and the distance function (e.g. Euclidean or Manhattan etc.)\n",
    "\n",
    "#### Cons\n",
    "\n",
    "-    The KNN algorithm doesn't work well with high dimensional data because with large number of dimensions, it becomes difficult for the algorithm to calculate distance in each dimension.\n",
    "-    The KNN algorithm has a high prediction cost for large datasets. This is because in large datasets the cost of calculating distance between new point and each existing point becomes higher.\n",
    "-    Finally, the KNN algorithm doesn't work well with categorical features since it is difficult to find the distance between dimensions with categorical features.\n"
   ]
  },
  {
   "cell_type": "markdown",
   "metadata": {},
   "source": [
    "### 6.2 Load the data and explore\n",
    "The dataset consists of four attributes: sepal-width, sepal-length, petal-width and petal-length. These are the attributes of specific types of iris plant. We have explored the data earlier in the pandas notebook. Here instead, we build a model to predict the class to which any given plant belong. There are three classes in the dataset: Iris-setosa, Iris-versicolor and Iris-virginica"
   ]
  },
  {
   "cell_type": "markdown",
   "metadata": {},
   "source": [
    "![Get and Explore the Data](img/get-explore_data.png)"
   ]
  },
  {
   "cell_type": "code",
   "execution_count": 22,
   "metadata": {},
   "outputs": [],
   "source": [
    "X = iris.data\n",
    "y = iris.target"
   ]
  },
  {
   "cell_type": "code",
   "execution_count": 21,
   "metadata": {},
   "outputs": [
    {
     "data": {
      "text/plain": [
       "(150, 4)"
      ]
     },
     "execution_count": 21,
     "metadata": {},
     "output_type": "execute_result"
    }
   ],
   "source": [
    "X.shape"
   ]
  },
  {
   "cell_type": "code",
   "execution_count": 22,
   "metadata": {},
   "outputs": [
    {
     "data": {
      "text/plain": [
       "(150,)"
      ]
     },
     "execution_count": 22,
     "metadata": {},
     "output_type": "execute_result"
    }
   ],
   "source": [
    "y.shape"
   ]
  },
  {
   "cell_type": "markdown",
   "metadata": {},
   "source": [
    "### 6.3 Split the data\n",
    "\n",
    "We split the data into training, validation and test set.\n",
    "**Training** is used to train the model only\n",
    "**Validation** is for quantifying the performance of the model during training\n",
    "**Test** used to test the final model when it is ready for delivery"
   ]
  },
  {
   "cell_type": "markdown",
   "metadata": {},
   "source": [
    "![Data Splitting](img/split_idata.png)\n",
    "In the project here, for simplicity and because we are doing an introduction to the basic concepts in ML, we will only split into two parts. We will not have a validation set."
   ]
  },
  {
   "cell_type": "code",
   "execution_count": 23,
   "metadata": {},
   "outputs": [],
   "source": [
    "from sklearn.model_selection import train_test_split\n",
    "\n",
    "X_train, X_test, y_train, y_test = train_test_split(X, y, test_size=0.2)"
   ]
  },
  {
   "cell_type": "code",
   "execution_count": 25,
   "metadata": {},
   "outputs": [
    {
     "name": "stdout",
     "output_type": "stream",
     "text": [
      "Data size (150, 4)\n",
      "Train size (120, 4)\n",
      "Test size (30, 4)\n"
     ]
    }
   ],
   "source": [
    "print('Data size', X.shape)\n",
    "print('Train size', X_train.shape)\n",
    "print('Test size', X_test.shape)"
   ]
  },
  {
   "cell_type": "code",
   "execution_count": 26,
   "metadata": {},
   "outputs": [
    {
     "name": "stdout",
     "output_type": "stream",
     "text": [
      "Data size (150,)\n",
      "Train size (120,)\n",
      "Tes tsize (30,)\n"
     ]
    }
   ],
   "source": [
    "print('Data size', y.shape)\n",
    "print('Train size', y_train.shape)\n",
    "print('Tes tsize', y_test.shape)"
   ]
  },
  {
   "cell_type": "markdown",
   "metadata": {},
   "source": [
    "### 6.4 Feature Scaling\n",
    "It is always a good practice to scale the features so that all of them are within the same range. E.g converting some from one units to another, eg $\\mu$s to s.\n",
    "In the case of the Iris dataset, all dimensions were measured in centimeters, hence \"scaling\" features would not be necessary in the context of kNN.\n",
    "\n",
    "However, there are several algorithms (especially gradient-descent, etc., which we will cover later in this course), which work much better (are more robust, numerically stable, and converge faster) if the data is centered and has a smaller range.\n",
    " \n",
    "Some of the techniques include \"normalization\" schemes: min-max scaling and z-score standardization. e.g $x_{norm}^i = \\frac{x^i-x_{min}} {x_{max}-x_{min}}$.\n",
    "We will see this as progress without out group discussion series. "
   ]
  },
  {
   "cell_type": "markdown",
   "metadata": {},
   "source": [
    "### 6. 5 Training and Predictions\n",
    "It is extremely straight forward to train and make predictions any algorithm with Scikit-Learn, and KNN is not an exception. \n",
    "- Step 1. import the KNeighborsClassifier class from the sklearn.neighbors library\n",
    "- Step 2. initialized with one parameter, i.e. n_neigbours,  no ideal  but 5 seems to be the most commonly used value for KNN algorithm\n",
    "\n",
    "Over time you will notice that most of the default parameters in the Scikit-Learn ML algorithms are pretty good for a start\n",
    "\n",
    "![Training](img/fit_data.png)"
   ]
  },
  {
   "cell_type": "code",
   "execution_count": 27,
   "metadata": {},
   "outputs": [],
   "source": [
    "from sklearn.neighbors import KNeighborsClassifier\n",
    "clf = KNeighborsClassifier(n_neighbors=5)"
   ]
  },
  {
   "cell_type": "markdown",
   "metadata": {},
   "source": [
    "Training the algorithm"
   ]
  },
  {
   "cell_type": "code",
   "execution_count": 28,
   "metadata": {},
   "outputs": [
    {
     "data": {
      "text/plain": [
       "KNeighborsClassifier(algorithm='auto', leaf_size=30, metric='minkowski',\n",
       "                     metric_params=None, n_jobs=None, n_neighbors=5, p=2,\n",
       "                     weights='uniform')"
      ]
     },
     "execution_count": 28,
     "metadata": {},
     "output_type": "execute_result"
    }
   ],
   "source": [
    "clf.fit(X_train, y_train)"
   ]
  },
  {
   "cell_type": "code",
   "execution_count": 29,
   "metadata": {},
   "outputs": [
    {
     "data": {
      "text/plain": [
       "{'algorithm': 'auto',\n",
       " 'leaf_size': 30,\n",
       " 'metric': 'minkowski',\n",
       " 'metric_params': None,\n",
       " 'n_jobs': None,\n",
       " 'n_neighbors': 5,\n",
       " 'p': 2,\n",
       " 'weights': 'uniform'}"
      ]
     },
     "execution_count": 29,
     "metadata": {},
     "output_type": "execute_result"
    }
   ],
   "source": [
    "clf.get_params()"
   ]
  },
  {
   "cell_type": "code",
   "execution_count": 30,
   "metadata": {},
   "outputs": [
    {
     "data": {
      "text/plain": [
       "0.9333333333333333"
      ]
     },
     "execution_count": 30,
     "metadata": {},
     "output_type": "execute_result"
    }
   ],
   "source": [
    "clf.score(X_test, y_test)"
   ]
  },
  {
   "cell_type": "markdown",
   "metadata": {},
   "source": [
    "We note here that, we didn't use the clif.transform() method. If used, the data will converted to the cluster-distance space where each data point is identified by 5 distances, corresponding to it closest neigbours.\n",
    "\n",
    "Below, we perform prediction using the X_test data that we kept after splitting the data. The method `.predict()` is used."
   ]
  },
  {
   "cell_type": "code",
   "execution_count": 31,
   "metadata": {},
   "outputs": [],
   "source": [
    "predicted = clf.predict(X_test)"
   ]
  },
  {
   "cell_type": "markdown",
   "metadata": {},
   "source": [
    "### 6.5 Evaluating the Algorithm\n",
    "The idea behind evaluating an the performance of an algorithm is universal to most of the algorithms in Scikit-Learn although the approaches or functions used are different. Here we have a classification problem. If we had a regression problem, we would use a function that is familiar to most of you in the room. The residual sum square. \n",
    "\n",
    "![Test Evaluation](img/evaluate_model.png)\n",
    "\n",
    "\n",
    "Here, for evaluating the algorithm, confusion matrix, precision, recall and f1 score are the most commonly used metrics. The `confusion_matrix` and `classification_report` methods of the `sklearn.metrics` can be used to calculate these metrics.\n",
    "\n",
    "![Evaluate](img/eval_metrics.png)"
   ]
  },
  {
   "cell_type": "code",
   "execution_count": 33,
   "metadata": {},
   "outputs": [
    {
     "name": "stdout",
     "output_type": "stream",
     "text": [
      "              precision    recall  f1-score   support\n",
      "\n",
      "           0       1.00      1.00      1.00         8\n",
      "           1       0.89      0.89      0.89         9\n",
      "           2       0.92      0.92      0.92        13\n",
      "\n",
      "    accuracy                           0.93        30\n",
      "   macro avg       0.94      0.94      0.94        30\n",
      "weighted avg       0.93      0.93      0.93        30\n",
      "\n"
     ]
    }
   ],
   "source": [
    "from sklearn.metrics import classification_report\n",
    "\n",
    "print(classification_report(y_test, predicted))"
   ]
  },
  {
   "cell_type": "markdown",
   "metadata": {},
   "source": [
    "The confusion matrix is illustrated here\n",
    "\n",
    "![Evaluate](img/confusion_imatrix.png)"
   ]
  },
  {
   "cell_type": "code",
   "execution_count": 34,
   "metadata": {},
   "outputs": [
    {
     "name": "stdout",
     "output_type": "stream",
     "text": [
      "[[ 8  0  0]\n",
      " [ 0  8  1]\n",
      " [ 0  1 12]]\n"
     ]
    }
   ],
   "source": [
    "from sklearn.metrics import confusion_matrix\n",
    "\n",
    "print(confusion_matrix(y_test, predicted))"
   ]
  },
  {
   "cell_type": "markdown",
   "metadata": {},
   "source": [
    "The results show that our KNN algorithm was able to classify all the 30 records in the test set with 100% accuracy, which is excellent. Although the algorithm performed very well with this dataset, don't expect the same results with all applications. As noted earlier, KNN doesn't always perform as well with high-dimensionality or categorical features."
   ]
  },
  {
   "cell_type": "code",
   "execution_count": 33,
   "metadata": {},
   "outputs": [
    {
     "data": {
      "text/plain": [
       "array([0, 2, 1, 1, 1, 1, 0, 2, 0, 1, 0, 2, 1, 2, 0, 0, 2, 1, 2, 0, 1, 2,\n",
       "       2, 0, 0, 0, 1, 1, 2, 1])"
      ]
     },
     "execution_count": 33,
     "metadata": {},
     "output_type": "execute_result"
    }
   ],
   "source": [
    "predicted"
   ]
  },
  {
   "cell_type": "code",
   "execution_count": 34,
   "metadata": {},
   "outputs": [
    {
     "data": {
      "text/plain": [
       "array([0, 2, 1, 1, 1, 1, 0, 2, 0, 1, 0, 2, 1, 2, 0, 0, 1, 1, 2, 0, 1, 2,\n",
       "       2, 0, 0, 0, 1, 1, 2, 1])"
      ]
     },
     "execution_count": 34,
     "metadata": {},
     "output_type": "execute_result"
    }
   ],
   "source": [
    "y_test"
   ]
  },
  {
   "cell_type": "markdown",
   "metadata": {},
   "source": [
    "### 6.7 Comparing Error Rate with the K Value\n",
    "\n",
    "In the training and prediction section we randomly chose 5 as the K value and it just happen to result in 100% accuracy.\n",
    "\n",
    "One way to help you find the best value of K is to plot the graph of K value and the corresponding error rate for the dataset. There are other ways to search for the best values. In the future we will use more general and widely used concepts of *Pipelines and Grid Search*"
   ]
  },
  {
   "cell_type": "markdown",
   "metadata": {},
   "source": [
    "## 7. What to expect in the future\n",
    "\n",
    "- Regression, and classification\n",
    "- Other Scikit-learn algorithms like SVM, Tree base etc\n",
    "- Gridsearch, used for optimizing the parameters\n",
    "- Pipeline, used for automating most of the processes\n",
    "- Loss functions, for error evalustion and thus quantification"
   ]
  },
  {
   "cell_type": "markdown",
   "metadata": {},
   "source": [
    "## 8. Documentation\n",
    "\n",
    "I recommend starting out with the quick-start tutorial and flicking through the user guide and example gallery for algorithms that interest you.\n",
    "\n",
    "Ultimately, scikit-learn is a library and the API reference will be the best documentation for getting things done.\n",
    "- [Quick Start Tutorial](http://scikit-learn.org/stable/tutorial/basic/tutorial.html)\n",
    "- [User Guide](http://scikit-learn.org/stable/user_guide.html)\n",
    "- [API Reference]( http://scikit-learn.org/stable/modules/classes.html)\n",
    "- [Example Gallery]( http://scikit-learn.org/stable/auto_examples/index.html)\n",
    "- [Blog post of KNN](https://stackabuse.com/k-nearest-neighbors-algorithm-in-python-and-scikit-learn/)\n"
   ]
  }
 ],
 "metadata": {
  "kernelspec": {
   "display_name": "Python 3",
   "language": "python",
   "name": "python3"
  },
  "language_info": {
   "codemirror_mode": {
    "name": "ipython",
    "version": 3
   },
   "file_extension": ".py",
   "mimetype": "text/x-python",
   "name": "python",
   "nbconvert_exporter": "python",
   "pygments_lexer": "ipython3",
   "version": "3.7.5"
  }
 },
 "nbformat": 4,
 "nbformat_minor": 2
}
