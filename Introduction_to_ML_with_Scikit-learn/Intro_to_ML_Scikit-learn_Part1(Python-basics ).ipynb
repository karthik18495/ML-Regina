{
 "cells": [
  {
   "cell_type": "markdown",
   "metadata": {},
   "source": [
    "# Introduction to Data Science in Scikit-Learn\n",
    "\n",
    "*Note: Some of the  material is gotten from online, and there might be no proper scitation:*\n",
    "\n",
    "There will be four sub parts for this introduction. For the most part, everything would be considered basic. However, some advanced concepts are used. In those specific areas, don't worry, they will become familier as we go through our group work on machine learning.\n",
    "\n",
    "The notbooks are devided as follows:\n",
    "- **Basics of python**\n",
    "- **Numpy and Matplotlib for scientific computing and plotting respectively**\n",
    "- **Pandas for data exploration and manipulation**\n",
    "- **Scikit-learn for machine learning**"
   ]
  },
  {
   "cell_type": "markdown",
   "metadata": {},
   "source": [
    "In this folder we have introduction to ML using Scikit-learn. The series is divided in to five \n",
    "notebooks representing the various parts.\n",
    "\n",
    "#### Part 1: Basic introduction to python\n",
    "   In this notebook, we will go through the basics of pythons including\n",
    "- Basic types\n",
    "- Containers like list, dict, sets, etc\n",
    "- Functions as well as function generators like enum, range\n",
    "- classes and objects\n",
    "- Reading and writing to files\n",
    "    \n",
    "#### Part 2: Numpy and Matplotlib for scientific computing and plotting respectively\n",
    "In this notebook, we will go through `numpy` and `matplotlib` libray features which include\n",
    " - Creating and manipulating ndimensiona vectors\n",
    " - Getting statistics from vectors\n",
    " - Basic algebra\n",
    " - Vectorized computations\n",
    " - Basic 1D and 2D pltting\n",
    " - Customizing plots\n",
    " - Histogram plots etc\n",
    " \n",
    " \n",
    "#### Part 3: Pandas for data exploration and manipulation\n",
    "In this notebook, we will go through data exploration using pandas. The concepts covered includes\n",
    " - Creating Series and Dataframes\n",
    " - Manipulation of rows and columns\n",
    " - Performing basic stats\n",
    " - Using special functions play with the data held\n",
    " - Data visualizations with plotting \n",
    " - Measuring correlation with confusion matrix\n",
    " \n",
    " \n",
    "#### Part 4: Scikit-learn for machine learning\n",
    "In this notebook, we will go through simple machine learning concepts as way to get a bit familia with \n",
    "Scikit-learn. We will cover\n",
    " - Types of machine learning\n",
    " - How does the full process looks like?\n",
    " - Getting data ( synthetic and toy data)\n",
    " - Train clustering algorithm on synthetic data\n",
    " - Data exploration of the Iris data set\n",
    " - Train a KNN algorithm on Iris data\n",
    " - Evaluate performance of a train model\n",
    " - Future propectives"
   ]
  },
  {
   "cell_type": "markdown",
   "metadata": {},
   "source": [
    "# Part 1. Basics of python foundations\n",
    "\n",
    "Python is a general progromming language like C++ and Java but is not strongly type. This means one doesn't need to declare a variable before initializing it. We will use python provided by [Anaconda](anaconda.com) as it makes the installation and management of pythons very easy. In the near future we will create a `virtual` environment to manage packages for some specialized projects. We will use the jupyter notbook, which is an interactive shell. Aan excellent beginner intro can be found [here](https://www.dataquest.io/blog/jupyter-notebook-tutorial/)."
   ]
  },
  {
   "cell_type": "markdown",
   "metadata": {},
   "source": [
    "\n",
    "## 1. Jupyter notbooks basics\n",
    "[Read this blog for a start.](https://www.dataquest.io/blog/jupyter-notebook-tutorial/)\n",
    "Two important concepts are a\n",
    "-    A code cell contains code to be executed in the kernel and displays its output below.\n",
    "-    A Markdown cell contains text formatted using Markdown and displays its output in-place when it is run"
   ]
  },
  {
   "cell_type": "markdown",
   "metadata": {},
   "source": [
    "Below, you’ll find a list of some of Jupyter’s keyboard shortcuts.. You’re not expected to pick them up immediately, but the list should give you a good idea of what’s possible.\n",
    "\n",
    "-    Toggle between edit and command mode with Esc and Enter, respectively.\n",
    "-    Once in command mode:\n",
    "     -   Scroll up and down your cells with your Up and Down keys.\n",
    "     -   Press A or B to insert a new cell above or below the active cell.\n",
    "     -  M will transform the active cell to a Markdown cell.\n",
    "     -   Y will set the active cell to a code cell.\n",
    "     -  D + D (D twice) will delete the active cell.\n",
    "     -   Z will undo cell deletion.\n",
    "     -   Hold Shift and press Up or Down to select multiple cells at once.\n",
    "          -  With multiple cells selected, Shift + M will merge your selection.\n",
    "-    Ctrl + Shift + -, in edit mode, will split the active cell at the cursor.\n",
    "-    You can also click and Shift + Click in the margin to the left of your cells to select them.\n"
   ]
  },
  {
   "cell_type": "markdown",
   "metadata": {},
   "source": [
    "### 2  Basic types & Arithmetic operators\n",
    "bool, float, int, str"
   ]
  },
  {
   "cell_type": "code",
   "execution_count": null,
   "metadata": {},
   "outputs": [],
   "source": [
    "x = True\n",
    "y = 10; z = 10.19\n",
    "w = \"Welcome to python!, that was today's date!\""
   ]
  },
  {
   "cell_type": "code",
   "execution_count": null,
   "metadata": {},
   "outputs": [],
   "source": [
    "print(x, y, z, w)"
   ]
  },
  {
   "cell_type": "markdown",
   "metadata": {},
   "source": [
    "**Operators** \n",
    "+,  -,  /,  //,  **, %"
   ]
  },
  {
   "cell_type": "code",
   "execution_count": null,
   "metadata": {},
   "outputs": [],
   "source": [
    "x+y"
   ]
  },
  {
   "cell_type": "code",
   "execution_count": null,
   "metadata": {},
   "outputs": [],
   "source": [
    "z+y"
   ]
  },
  {
   "cell_type": "code",
   "execution_count": null,
   "metadata": {},
   "outputs": [],
   "source": [
    "#Should get an error\n",
    "# w+y # why? Bceuase we can't add float to text"
   ]
  },
  {
   "cell_type": "markdown",
   "metadata": {},
   "source": [
    "Operators are overloaded. There is no way to cast a string to int"
   ]
  },
  {
   "cell_type": "markdown",
   "metadata": {},
   "source": [
    "### 3. Strings\n",
    "Basics\n",
    " - single quote, double quote, escape charater for those that span multiple pages\n",
    " - strings are immutable objects (any method on it returns a new object without changing the string)\n",
    " - strings indexing and slicing\n",
    " - different ways of printing a string\n",
    "\n",
    "Methods, .upper(), .lower(), .replace(), .startswith(),..."
   ]
  },
  {
   "cell_type": "code",
   "execution_count": null,
   "metadata": {},
   "outputs": [],
   "source": [
    "w"
   ]
  },
  {
   "cell_type": "code",
   "execution_count": null,
   "metadata": {},
   "outputs": [],
   "source": [
    "w[0:18]"
   ]
  },
  {
   "cell_type": "code",
   "execution_count": null,
   "metadata": {},
   "outputs": [],
   "source": [
    "#Get first to chars\n",
    "w[:10]"
   ]
  },
  {
   "cell_type": "code",
   "execution_count": null,
   "metadata": {},
   "outputs": [],
   "source": [
    "#Get the last char\n",
    "w[-1]"
   ]
  },
  {
   "cell_type": "markdown",
   "metadata": {},
   "source": [
    "Exploring string methods"
   ]
  },
  {
   "cell_type": "code",
   "execution_count": null,
   "metadata": {},
   "outputs": [],
   "source": [
    "w.upper()"
   ]
  },
  {
   "cell_type": "code",
   "execution_count": null,
   "metadata": {},
   "outputs": [],
   "source": [
    "w"
   ]
  },
  {
   "cell_type": "code",
   "execution_count": null,
   "metadata": {},
   "outputs": [],
   "source": [
    "w[18:].replace(' ', '- ')"
   ]
  },
  {
   "cell_type": "markdown",
   "metadata": {},
   "source": [
    "##  Data Structures\n",
    "### 4 List: \n",
    "A container of assorted quantities\n",
    " - `list` types\n",
    " - mutable\n",
    " - sorting\n",
    " - variable size\n",
    " - slicing and indexing\n",
    " - `list` methods"
   ]
  },
  {
   "cell_type": "code",
   "execution_count": null,
   "metadata": {},
   "outputs": [],
   "source": [
    "list_1 = [x, y, x, w]"
   ]
  },
  {
   "cell_type": "code",
   "execution_count": null,
   "metadata": {},
   "outputs": [],
   "source": [
    "dir(list_1)"
   ]
  },
  {
   "cell_type": "code",
   "execution_count": null,
   "metadata": {},
   "outputs": [],
   "source": [
    "list_1[0]"
   ]
  },
  {
   "cell_type": "code",
   "execution_count": null,
   "metadata": {},
   "outputs": [],
   "source": [
    "list_1[3]"
   ]
  },
  {
   "cell_type": "code",
   "execution_count": null,
   "metadata": {},
   "outputs": [],
   "source": [
    "list_2 = []"
   ]
  },
  {
   "cell_type": "markdown",
   "metadata": {},
   "source": [
    "### 5 Dictionary: \n",
    "A container to hold key and values\n",
    " - `dict` types\n",
    " - key-value pairs\n",
    " - keys must be immutable types\n",
    " - fast loop-up "
   ]
  },
  {
   "cell_type": "code",
   "execution_count": null,
   "metadata": {},
   "outputs": [],
   "source": [
    "dict_1 = {\"boolx\":x, \"inty\":y, \"floatz\":z, \"stringw\":w}"
   ]
  },
  {
   "cell_type": "code",
   "execution_count": null,
   "metadata": {},
   "outputs": [],
   "source": [
    "dict_1"
   ]
  },
  {
   "cell_type": "code",
   "execution_count": null,
   "metadata": {},
   "outputs": [],
   "source": [
    "dict_1['inty']"
   ]
  },
  {
   "cell_type": "markdown",
   "metadata": {},
   "source": [
    "### 6 Set: \n",
    "A container to hold unique values\n",
    " - `set` stores immutable values"
   ]
  },
  {
   "cell_type": "code",
   "execution_count": null,
   "metadata": {},
   "outputs": [],
   "source": [
    "set_1 = {w, x, y, z}"
   ]
  },
  {
   "cell_type": "code",
   "execution_count": null,
   "metadata": {},
   "outputs": [],
   "source": [
    "#No subscribing of sets, gets an error\n",
    "##set_1[0]"
   ]
  },
  {
   "cell_type": "code",
   "execution_count": null,
   "metadata": {},
   "outputs": [],
   "source": [
    "set([4,4,1,2,2,2,3,4,5,5,5,6]) // Removes duplicates"
   ]
  },
  {
   "cell_type": "markdown",
   "metadata": {},
   "source": [
    "### 7 Tuples: \n",
    "A container that is similar to a list but is frozen or fixed size\n",
    " - `tuples` are immutable but it values values can be mutable\n",
    " - comma separated values create a tuple. Optional paranthesis"
   ]
  },
  {
   "cell_type": "code",
   "execution_count": null,
   "metadata": {},
   "outputs": [],
   "source": [
    "tup_1 = x, y, z, w  # Same result as (tup_1 = x, y, z, w)"
   ]
  },
  {
   "cell_type": "code",
   "execution_count": null,
   "metadata": {},
   "outputs": [],
   "source": [
    "tup_1"
   ]
  },
  {
   "cell_type": "code",
   "execution_count": null,
   "metadata": {},
   "outputs": [],
   "source": [
    "tup_1[1:3]"
   ]
  },
  {
   "cell_type": "markdown",
   "metadata": {},
   "source": [
    "### 8 Conditionals\n",
    "\n",
    "A conditional sentence; a statement that depends on a condition being true or false.\n",
    "Examples ` if/ elsif/ else`\n",
    "\n",
    "#### Iteration\n",
    " - `while` loop\n",
    " - `for` loop\n",
    " - useful keywordes: `continue, break`\n",
    " - useful onjects: `range, enum, zip`"
   ]
  },
  {
   "cell_type": "code",
   "execution_count": null,
   "metadata": {},
   "outputs": [],
   "source": [
    "if (x > y):\n",
    "    print(\"Yeh!\")\n",
    "elif(y < z):\n",
    "    print(\"z = %.2f, is greater than y = %d\"  %(z, y))"
   ]
  },
  {
   "cell_type": "code",
   "execution_count": null,
   "metadata": {},
   "outputs": [],
   "source": [
    "for key, val in dict_1.items():\n",
    "\n",
    "    print(\"%s : %s\"  %(key, val))"
   ]
  },
  {
   "cell_type": "code",
   "execution_count": null,
   "metadata": {},
   "outputs": [],
   "source": [
    "print(list_1, tup_1)"
   ]
  },
  {
   "cell_type": "markdown",
   "metadata": {},
   "source": [
    "### 9 Generators and Comprehensions\n",
    " - `Generators` are advance but basically functions like an on-demand `list`\n",
    " - This is a pythonic way to go through the containers below just like a loop\n",
    " - `list, set, and dict` accepts comprehension."
   ]
  },
  {
   "cell_type": "markdown",
   "metadata": {},
   "source": [
    "Consider the example below that uses a list comprehension, generator and reminder function"
   ]
  },
  {
   "cell_type": "code",
   "execution_count": null,
   "metadata": {},
   "outputs": [],
   "source": [
    "range(10)"
   ]
  },
  {
   "cell_type": "markdown",
   "metadata": {},
   "source": [
    "Range is a generator and won't return anything unless asked. So lets askt it to send everything to list"
   ]
  },
  {
   "cell_type": "code",
   "execution_count": null,
   "metadata": {},
   "outputs": [],
   "source": [
    "list(range(10))"
   ]
  },
  {
   "cell_type": "code",
   "execution_count": null,
   "metadata": {},
   "outputs": [],
   "source": [
    "list_comp = [i**2 for i in range(10) if i%2 ==0]"
   ]
  },
  {
   "cell_type": "code",
   "execution_count": null,
   "metadata": {},
   "outputs": [],
   "source": [
    "list_comp"
   ]
  },
  {
   "cell_type": "code",
   "execution_count": null,
   "metadata": {},
   "outputs": [],
   "source": [
    "get_comp = (i**2 for i in range(10) if i%2 ==0)"
   ]
  },
  {
   "cell_type": "code",
   "execution_count": null,
   "metadata": {},
   "outputs": [],
   "source": [
    "get_comp"
   ]
  },
  {
   "cell_type": "code",
   "execution_count": null,
   "metadata": {},
   "outputs": [],
   "source": [
    "set_comp = {i**2 for i in range(10) if i%2 ==0}"
   ]
  },
  {
   "cell_type": "code",
   "execution_count": null,
   "metadata": {},
   "outputs": [],
   "source": [
    "set_comp"
   ]
  },
  {
   "cell_type": "markdown",
   "metadata": {},
   "source": [
    "### 10 Functions\n",
    "we will be able to write our own functions. Those that return a value or not, and those that takes zero or more arguments. \n",
    "Some in-bult and special functions include the following `pow`, `range()`, `enumerate`, `zip`,"
   ]
  },
  {
   "cell_type": "code",
   "execution_count": null,
   "metadata": {},
   "outputs": [],
   "source": [
    "pow(5, 2)"
   ]
  },
  {
   "cell_type": "code",
   "execution_count": null,
   "metadata": {},
   "outputs": [],
   "source": [
    "for k in enumerate(set_1):\n",
    "    print(k)"
   ]
  },
  {
   "cell_type": "code",
   "execution_count": null,
   "metadata": {},
   "outputs": [],
   "source": [
    "list_2 = list_1"
   ]
  },
  {
   "cell_type": "code",
   "execution_count": null,
   "metadata": {},
   "outputs": [],
   "source": [
    "def print_set(s):\n",
    "    if not isinstance(s, set):\n",
    "        print(\" Objest is not s set type\")\n",
    "    else:\n",
    "        print(s)"
   ]
  },
  {
   "cell_type": "code",
   "execution_count": null,
   "metadata": {},
   "outputs": [],
   "source": [
    "print_set(set_1)"
   ]
  },
  {
   "cell_type": "code",
   "execution_count": null,
   "metadata": {},
   "outputs": [],
   "source": [
    "print_set(list_1)"
   ]
  },
  {
   "cell_type": "markdown",
   "metadata": {},
   "source": [
    "On working with list, and also some other containers, python basically use pass them to function by reference. So in general, python use python for container access. This can be a problem when we compair the capabilities of numpy and list. As an example consider the following"
   ]
  },
  {
   "cell_type": "code",
   "execution_count": null,
   "metadata": {},
   "outputs": [],
   "source": [
    "def sqrt(list):\n",
    "    newList = [] # list tp hold values\n",
    "    for el in list:\n",
    "        newList.append(el-1)\n",
    "    return newList"
   ]
  },
  {
   "cell_type": "code",
   "execution_count": null,
   "metadata": {},
   "outputs": [],
   "source": [
    "list_sq = [0, 4, 16, 36, 64]\n",
    "\n",
    "print(\"Before function Call: \", list_sq)\n",
    "\n",
    "list_sqrt = sqrt(list_sq)\n",
    "print(\"Function Call returnx: \", list_sqrt)"
   ]
  },
  {
   "cell_type": "code",
   "execution_count": null,
   "metadata": {},
   "outputs": [],
   "source": [
    "print(\"After function Call: \", list_sq)"
   ]
  },
  {
   "cell_type": "code",
   "execution_count": null,
   "metadata": {},
   "outputs": [],
   "source": [
    "def fsq(x):\n",
    "    return x**2\n",
    "def fl(f):\n",
    "    return [f(k) for k in range(5)]\n",
    "sq = fl(fsq)\n",
    "sq"
   ]
  },
  {
   "cell_type": "markdown",
   "metadata": {},
   "source": [
    "### 11 Classes\n",
    "Basically, everything we have worked with is an object. We will expand on classes since they are relevant for understanding how the scikit-learn API works. Classes are \"templates\" for creating objects (this is called \"instantiating\" objects). An object is a collection of special \"functions\" (a also called \"method\") and attributes\n",
    "\n",
    "We will create a vector class that can do the first three of the following\n",
    "- initicalise\n",
    "- return the norm\n",
    "- multiply by scaler\n",
    "- print the vector"
   ]
  },
  {
   "cell_type": "code",
   "execution_count": null,
   "metadata": {},
   "outputs": [],
   "source": [
    "class vector:\n",
    "    def __init__(self, x=0, y=0, dim=2):\n",
    "        self.x = x\n",
    "        self.y = y\n",
    "        self.dimension = dim\n",
    "    def norm(self):\n",
    "        return pow(self.x**2 + self.y**2, 1/2)\n",
    "    def __repr__(self):\n",
    "        print('vetor( {}, {} )'.format(self.x, self.y))"
   ]
  },
  {
   "cell_type": "code",
   "execution_count": null,
   "metadata": {},
   "outputs": [],
   "source": [
    "v = vector(3, 4)"
   ]
  },
  {
   "cell_type": "code",
   "execution_count": null,
   "metadata": {},
   "outputs": [],
   "source": [
    "v.norm()"
   ]
  },
  {
   "cell_type": "markdown",
   "metadata": {},
   "source": [
    "Nothing is private in class methods.\n",
    "- A method preceded by an underscore a \"private\" method -- i.e the method is meant to be used internally but not by the user directly (also, it does not show up in the \"help\" documentation)\n",
    "- A method with a double-underscore is a \"stronger\" indicator for methods that are supposed to be private, and while users can access these but should not temper with them"
   ]
  },
  {
   "cell_type": "code",
   "execution_count": null,
   "metadata": {},
   "outputs": [],
   "source": [
    "class Matrix (vector):\n",
    "\n",
    "    def __init__(self, dim):\n",
    "        super(vector, self).__init__(dim)\n",
    "        self.dimension = vector(dim)"
   ]
  },
  {
   "cell_type": "markdown",
   "metadata": {},
   "source": [
    "### Reading files\n",
    "\n",
    "we will be able to read various types of files as well as save them.\n",
    " - f = `open`('filename.txt', 'r') create a handle\n",
    " - f.`close()` \n",
    " - we can also do `with open`('filename.txt', 'r')\n",
    " - mode include read 'r', qrite 'w' etc\n",
    " \n",
    " Download the file provided. We will play around with it."
   ]
  },
  {
   "cell_type": "code",
   "execution_count": null,
   "metadata": {},
   "outputs": [],
   "source": [
    "fh = \"data/iris.csv\"\n",
    "f = open(fh)\n",
    "\n",
    "i = 0\n",
    "for line in f:\n",
    "    print(line)\n",
    "    if i==5:\n",
    "        break\n",
    "    i += 1"
   ]
  },
  {
   "cell_type": "markdown",
   "metadata": {},
   "source": [
    "One way to ensure that the file is good, is by using `with`"
   ]
  },
  {
   "cell_type": "code",
   "execution_count": null,
   "metadata": {},
   "outputs": [],
   "source": [
    "with open(fh) as f:\n",
    "    for line in f:\n",
    "        print(line[:8])\n",
    "        \n",
    "        if line[0]=='5':\n",
    "            break"
   ]
  },
  {
   "cell_type": "markdown",
   "metadata": {},
   "source": [
    "### Import\n",
    "\n",
    "Using import, a handle is created to all the packages available via the import name. We will see this below when we explore the packages in anaconda\n",
    "\n",
    " - import numpy\n",
    " - from numpy import *somefunc*\n",
    " \n",
    " \n",
    "**Examples**\n",
    "`import copy`, \n",
    "`import random.random`"
   ]
  },
  {
   "cell_type": "markdown",
   "metadata": {},
   "source": [
    "### Resources\n",
    " - https://docs.python.org/3/tutorial/"
   ]
  }
 ],
 "metadata": {
  "kernelspec": {
   "display_name": "Python 3",
   "language": "python",
   "name": "python3"
  },
  "language_info": {
   "codemirror_mode": {
    "name": "ipython",
    "version": 3
   },
   "file_extension": ".py",
   "mimetype": "text/x-python",
   "name": "python",
   "nbconvert_exporter": "python",
   "pygments_lexer": "ipython3",
   "version": "3.7.3"
  }
 },
 "nbformat": 4,
 "nbformat_minor": 2
}
