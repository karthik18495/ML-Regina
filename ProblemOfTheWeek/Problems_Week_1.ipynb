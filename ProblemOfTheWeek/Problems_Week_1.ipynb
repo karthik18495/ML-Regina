{
 "cells": [
  {
   "cell_type": "markdown",
   "metadata": {},
   "source": [
    "### Problems from Part 1 & 2"
   ]
  },
  {
   "cell_type": "markdown",
   "metadata": {},
   "source": [
    "#### 1 Writing to a file\n",
    "Follow the following procedure to create a file with random alpbates.\n",
    " -  Using `import string` and defining $\\textsf{alphabet}$ = `string.ascii_lowercase`, create a function that take as input $\\textsf{alphabet}$ and  return a `dict` variable call $\\textsf{abc}$. $\\textsf{abc}$ should contain numbers in the range [1, 26] as the keys and the corresponding alphabet as values.\n",
    " \n",
    " - Using the function above, create a text file that contain alphabets a-z in lower cases.  The file should contain exactly 10 lines, each having 13 characters that are picked at random. One way to achieve this is by using library (random)\n",
    " \n",
    " An example of lines in the file could be\n",
    " -- alowuthrueifj\n",
    " -- pqowutiehdtxh\n",
    " -- amslotrywrweq"
   ]
  },
  {
   "cell_type": "code",
   "execution_count": null,
   "metadata": {},
   "outputs": [],
   "source": []
  },
  {
   "cell_type": "markdown",
   "metadata": {},
   "source": [
    "#### 2. Searching for occurance of characters\n",
    "a.  Define a function which will take a string 'name' as an argument. Search through the file if the alphabets in the word are present in the file, if yes return true else return the alphabets that are missing from the file when compared to the word.\n",
    "\n",
    "b. Define another function to reads the odd lines in the file, return a histogram of the frequency of each of the letters. \n",
    "\n",
    "c.  Select the vowels and plot the histogram and title it `Random Vowels Histogram`"
   ]
  },
  {
   "cell_type": "code",
   "execution_count": null,
   "metadata": {},
   "outputs": [],
   "source": []
  },
  {
   "cell_type": "markdown",
   "metadata": {},
   "source": [
    "#### 3 Generator functions\n",
    "Write a generator function named `oddGen` that takes two inputs (a, b) and generate odd numbers in that range with b > a"
   ]
  },
  {
   "cell_type": "code",
   "execution_count": null,
   "metadata": {},
   "outputs": [],
   "source": []
  },
  {
   "cell_type": "markdown",
   "metadata": {},
   "source": [
    "#### 4 Replacing numpy array values\n",
    "\n",
    "Replace all odd numbers in arr with -1 without changing arr\n",
    "\n",
    "Input: a = np.array([0, 1, 2, 3, 4, 5, 6, 7, 8, 9])\n",
    "\n",
    "Desired Output: \n",
    "\n",
    "out = array([ 0, -1,  2, -1,  4, -1,  6, -1,  8, -1])\n",
    "\n",
    "a = array([0, 1, 2, 3, 4, 5, 6, 7, 8, 9])"
   ]
  },
  {
   "cell_type": "code",
   "execution_count": null,
   "metadata": {},
   "outputs": [],
   "source": []
  }
 ],
 "metadata": {
  "kernelspec": {
   "display_name": "Python 3",
   "language": "python",
   "name": "python3"
  },
  "language_info": {
   "codemirror_mode": {
    "name": "ipython",
    "version": 3
   },
   "file_extension": ".py",
   "mimetype": "text/x-python",
   "name": "python",
   "nbconvert_exporter": "python",
   "pygments_lexer": "ipython3",
   "version": "3.7.3"
  }
 },
 "nbformat": 4,
 "nbformat_minor": 2
}
